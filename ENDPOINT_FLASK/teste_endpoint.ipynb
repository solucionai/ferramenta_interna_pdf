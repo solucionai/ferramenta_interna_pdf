{
 "cells": [
  {
   "cell_type": "code",
   "execution_count": null,
   "metadata": {},
   "outputs": [
    {
     "name": "stdout",
     "output_type": "stream",
     "text": [
      "Payload enviado com sucesso!\n"
     ]
    }
   ],
   "source": [
    "import requests\n",
    "\n",
    "# URL do webhook\n",
    "url = \"https://backend.botconversa.com.br/api/v1/webhooks-automation/catch/117619/DyztDujcvKUx/\"\n",
    "\n",
    "# Payload padrão com nome, número de celular e resposta_prompt\n",
    "payload = {\n",
    "    \"name\": \"gustavo zitta\",\n",
    "    \"phone_number\": \"+556186421816\",\n",
    "    \"resposta_prompt\": \"luan careca\"\n",
    "}\n",
    "\n",
    "# Cabeçalhos (se necessário)\n",
    "headers = {\n",
    "    \"Content-Type\": \"application/json\"\n",
    "}\n",
    "\n",
    "# Enviando o payload para a URL especificada\n",
    "response = requests.post(url, json=payload, headers=headers)\n",
    "\n",
    "# Verificando a resposta\n",
    "if response.status_code == 200:\n",
    "    print(\"Payload enviado com sucesso!\")\n",
    "else:\n",
    "    print(f\"Falha ao enviar payload. Status code: {response.status_code}\")\n",
    "    print(f\"Resposta: {response.text}\")\n"
   ]
  },
  {
   "cell_type": "markdown",
   "metadata": {},
   "source": [
    "## TESTANDO MONGO DB"
   ]
  },
  {
   "cell_type": "code",
   "execution_count": 5,
   "metadata": {},
   "outputs": [
    {
     "data": {
      "text/plain": [
       "{'_id': '66b35abac0c884ad1dab0e3d',\n",
       " 'numero_wpp': '+5554986316386',\n",
       " 'FLAG_NEGATIVACAO_JORNADA': '1',\n",
       " 'PROBLEMA': 'Problemas com Negativação Indevida',\n",
       " 'created_at': '2024-08-07T11:30:02.828000',\n",
       " 'last_modified': '2024-08-07T11:30:02.828000',\n",
       " 'outros_campos': {}}"
      ]
     },
     "metadata": {},
     "output_type": "display_data"
    }
   ],
   "source": [
    "import requests\n",
    "\n",
    "def fetch_data(numero_wpp, base_url='https://web-production-c353.up.railway.app'):\n",
    "    \"\"\"\n",
    "    Fetch data from the FastAPI endpoint using the given numero_wpp.\n",
    "    \n",
    "    Args:\n",
    "        numero_wpp (str): The 'numero_wpp' to search for in the database.\n",
    "        base_url (str): The base URL of the FastAPI server. Default is 'https://web-production-c353.up.railway.app/retrieve_all'.\n",
    "    \n",
    "    Returns:\n",
    "        dict: The response data from the server.\n",
    "    \"\"\"\n",
    "    url = f\"{base_url}/retrieve/{numero_wpp}\"\n",
    "    try:\n",
    "        response = requests.get(url)\n",
    "        response.raise_for_status()  # Raise an HTTPError if the HTTP request returned an unsuccessful status code\n",
    "        return response.json()\n",
    "    except requests.exceptions.RequestException as e:\n",
    "        print(f\"An error occurred: {e}\")\n",
    "        return None\n",
    "\n",
    "# Example usage\n",
    "data = fetch_data('+5554986316386')\n",
    "display(data)\n"
   ]
  },
  {
   "cell_type": "code",
   "execution_count": 27,
   "metadata": {},
   "outputs": [
    {
     "name": "stdout",
     "output_type": "stream",
     "text": [
      "[{'_id': '66be707cc0c884ad1dadefd6', 'numero_wpp': '+556186421816', 'FLAG_NEGATIVACAO_JORNADA': '100000', 'MOTIVO': 'DIVIDA', 'PROBLEMA': 'Problemas com Negativação Indevida', 'RAW_DATA': {'numero_wpp': '+556186421816', 'outros_campos': {}, 'PROBLEMA': 'Problemas com Negativação Indevida', 'FLAG_NEGATIVACAO_JORNADA': '100000', 'MOTIVO': 'DIVIDA', 'id': 1, 'created_at': '2024-08-15T21:17:48.723000', 'last_modified': '2024-08-15T21:19:27.948000'}, 'created_at': '2024-08-15T21:17:48.723000', 'id': 1, 'last_modified': '2024-08-15T21:19:27.948000', 'outros_campos': {}}, {'_id': '66be70acc0c884ad1dadefe5', 'numero_wpp': '+556186421815', 'FLAG_NEGATIVACAO_JORNADA': '100', 'MOTIVO': 'DIVIDA', 'PROBLEMA': 'Problemas com Negativação Indevida', 'RAW_DATA': {'numero_wpp': '+556186421815', 'outros_campos': {}, 'PROBLEMA': 'Problemas com Negativação Indevida', 'FLAG_NEGATIVACAO_JORNADA': '100', 'MOTIVO': 'DIVIDA', 'id': 2, 'created_at': '2024-08-15T21:18:36.005000', 'last_modified': '2024-08-15T21:18:36.005000'}, 'created_at': '2024-08-15T21:18:36.005000', 'id': 2, 'last_modified': '2024-08-15T21:18:36.005000', 'outros_campos': {}}]\n"
     ]
    }
   ],
   "source": [
    "import requests\n",
    "\n",
    "def fetch_all_data(url):\n",
    "    try:\n",
    "        response = requests.get(url)\n",
    "        if response.status_code == 200:\n",
    "            data = response.json()\n",
    "            return data\n",
    "        else:\n",
    "            print(f\"Error: {response.status_code}, Detail: {response.json()['detail']}\")\n",
    "    except requests.RequestException as e:\n",
    "        print(f\"Failed to make the request: {e}\")\n",
    "\n",
    "# URL do endpoint\n",
    "url = \"https://web-production-c353.up.railway.app/retrieve_all\"\n",
    "\n",
    "# Chamando a função\n",
    "all_data = fetch_all_data(url)\n",
    "print(all_data)\n"
   ]
  },
  {
   "cell_type": "code",
   "execution_count": 28,
   "metadata": {},
   "outputs": [
    {
     "data": {
      "text/plain": [
       "[{'_id': '66be707cc0c884ad1dadefd6',\n",
       "  'numero_wpp': '+556186421816',\n",
       "  'FLAG_NEGATIVACAO_JORNADA': '100000',\n",
       "  'MOTIVO': 'DIVIDA',\n",
       "  'PROBLEMA': 'Problemas com Negativação Indevida',\n",
       "  'RAW_DATA': {'numero_wpp': '+556186421816',\n",
       "   'outros_campos': {},\n",
       "   'PROBLEMA': 'Problemas com Negativação Indevida',\n",
       "   'FLAG_NEGATIVACAO_JORNADA': '100000',\n",
       "   'MOTIVO': 'DIVIDA',\n",
       "   'id': 1,\n",
       "   'created_at': '2024-08-15T21:17:48.723000',\n",
       "   'last_modified': '2024-08-15T21:19:27.948000'},\n",
       "  'created_at': '2024-08-15T21:17:48.723000',\n",
       "  'id': 1,\n",
       "  'last_modified': '2024-08-15T21:19:27.948000',\n",
       "  'outros_campos': {}},\n",
       " {'_id': '66be70acc0c884ad1dadefe5',\n",
       "  'numero_wpp': '+556186421815',\n",
       "  'FLAG_NEGATIVACAO_JORNADA': '100',\n",
       "  'MOTIVO': 'DIVIDA',\n",
       "  'PROBLEMA': 'Problemas com Negativação Indevida',\n",
       "  'RAW_DATA': {'numero_wpp': '+556186421815',\n",
       "   'outros_campos': {},\n",
       "   'PROBLEMA': 'Problemas com Negativação Indevida',\n",
       "   'FLAG_NEGATIVACAO_JORNADA': '100',\n",
       "   'MOTIVO': 'DIVIDA',\n",
       "   'id': 2,\n",
       "   'created_at': '2024-08-15T21:18:36.005000',\n",
       "   'last_modified': '2024-08-15T21:18:36.005000'},\n",
       "  'created_at': '2024-08-15T21:18:36.005000',\n",
       "  'id': 2,\n",
       "  'last_modified': '2024-08-15T21:18:36.005000',\n",
       "  'outros_campos': {}}]"
      ]
     },
     "execution_count": 28,
     "metadata": {},
     "output_type": "execute_result"
    }
   ],
   "source": [
    "all_data"
   ]
  },
  {
   "cell_type": "code",
   "execution_count": 18,
   "metadata": {},
   "outputs": [
    {
     "data": {
      "text/plain": [
       "{'numero_wpp': '+556186421816',\n",
       " 'outros_campos': {},\n",
       " 'PROBLEMA': 'Problemas com Negativação Indevida',\n",
       " 'FLAG_NEGATIVACAO_JORNADA': '100',\n",
       " 'MOTIVO': 'DIVIDA',\n",
       " 'id': 1,\n",
       " 'created_at': '2024-08-15T21:09:52.745000',\n",
       " 'last_modified': '2024-08-15T21:09:52.745000'}"
      ]
     },
     "execution_count": 18,
     "metadata": {},
     "output_type": "execute_result"
    }
   ],
   "source": [
    "all_data[-1].get('RAW_DATA')"
   ]
  },
  {
   "cell_type": "markdown",
   "metadata": {},
   "source": [
    "### limpar coleção"
   ]
  },
  {
   "cell_type": "code",
   "execution_count": 19,
   "metadata": {},
   "outputs": [
    {
     "name": "stdout",
     "output_type": "stream",
     "text": [
      "Banco de dados limpo com sucesso!\n",
      "Resposta: {'message': 'Banco de dados limpo com sucesso!'}\n"
     ]
    }
   ],
   "source": [
    "import requests\n",
    "\n",
    "# URL do endpoint\n",
    "url = \"https://web-production-c353.up.railway.app/clear_db\"\n",
    "\n",
    "def clear_database():\n",
    "    try:\n",
    "        # Fazendo a requisição DELETE para apagar os dados\n",
    "        response = requests.delete(url)\n",
    "        \n",
    "        # Verifica se a requisição foi bem-sucedida\n",
    "        if response.status_code == 200:\n",
    "            print(\"Banco de dados limpo com sucesso!\")\n",
    "            print(\"Resposta:\", response.json())  # Mostra a resposta JSON do servidor\n",
    "        else:\n",
    "            print(f\"Erro ao limpar o banco de dados. Status code: {response.status_code}\")\n",
    "            print(\"Detalhes:\", response.json())  # Mostra a resposta de erro, se houver\n",
    "    except Exception as e:\n",
    "        print(f\"Ocorreu um erro: {e}\")\n",
    "\n",
    "# Executa a função para apagar os dados\n",
    "clear_database()\n"
   ]
  },
  {
   "cell_type": "markdown",
   "metadata": {},
   "source": [
    "### INTEGRAÇÂO PIPEDRIVE"
   ]
  },
  {
   "cell_type": "code",
   "execution_count": 22,
   "metadata": {},
   "outputs": [
    {
     "name": "stdout",
     "output_type": "stream",
     "text": [
      "Sending request...\n",
      "Deal was added successfully!\n",
      "{\n",
      "    \"success\": true,\n",
      "    \"data\": {\n",
      "        \"id\": 478,\n",
      "        \"creator_user_id\": {\n",
      "            \"id\": 21200027,\n",
      "            \"name\": \"Solucionai\",\n",
      "            \"email\": \"compartilhadosolucionai@gmail.com\",\n",
      "            \"has_pic\": 0,\n",
      "            \"pic_hash\": null,\n",
      "            \"active_flag\": true,\n",
      "            \"value\": 21200027\n",
      "        },\n",
      "        \"user_id\": {\n",
      "            \"id\": 21200027,\n",
      "            \"name\": \"Solucionai\",\n",
      "            \"email\": \"compartilhadosolucionai@gmail.com\",\n",
      "            \"has_pic\": 0,\n",
      "            \"pic_hash\": null,\n",
      "            \"active_flag\": true,\n",
      "            \"value\": 21200027\n",
      "        },\n",
      "        \"person_id\": {\n",
      "            \"active_flag\": true,\n",
      "            \"name\": \"Luan\",\n",
      "            \"email\": [\n",
      "                {\n",
      "                    \"value\": \"\",\n",
      "                    \"primary\": true\n",
      "                }\n",
      "            ],\n",
      "            \"phone\": [\n",
      "                {\n",
      "                    \"value\": \"\",\n",
      "                    \"primary\": true\n",
      "                }\n",
      "            ],\n",
      "            \"owner_id\": 21200027,\n",
      "            \"value\": 27\n",
      "        },\n",
      "        \"org_id\": {\n",
      "            \"name\": \"Organization ID goes here\",\n",
      "            \"people_count\": 0,\n",
      "            \"owner_id\": 21200027,\n",
      "            \"address\": null,\n",
      "            \"active_flag\": true,\n",
      "            \"cc_email\": \"solucionai2@pipedrivemail.com\",\n",
      "            \"label_ids\": [],\n",
      "            \"owner_name\": \"Solucionai\",\n",
      "            \"value\": 12\n",
      "        },\n",
      "        \"stage_id\": 1,\n",
      "        \"title\": \"TESTE PYTHON 1\",\n",
      "        \"value\": 10000,\n",
      "        \"currency\": \"USD\",\n",
      "        \"add_time\": \"2021-02-11 00:00:00\",\n",
      "        \"update_time\": \"2024-08-07 15:05:22\",\n",
      "        \"stage_change_time\": null,\n",
      "        \"active\": true,\n",
      "        \"deleted\": false,\n",
      "        \"status\": \"open\",\n",
      "        \"probability\": 60,\n",
      "        \"next_activity_date\": null,\n",
      "        \"next_activity_time\": null,\n",
      "        \"next_activity_id\": null,\n",
      "        \"last_activity_id\": null,\n",
      "        \"last_activity_date\": null,\n",
      "        \"lost_reason\": null,\n",
      "        \"visible_to\": \"1\",\n",
      "        \"close_time\": null,\n",
      "        \"pipeline_id\": 1,\n",
      "        \"won_time\": null,\n",
      "        \"first_won_time\": null,\n",
      "        \"lost_time\": null,\n",
      "        \"products_count\": 0,\n",
      "        \"files_count\": 0,\n",
      "        \"notes_count\": 0,\n",
      "        \"followers_count\": 0,\n",
      "        \"email_messages_count\": 0,\n",
      "        \"activities_count\": 0,\n",
      "        \"done_activities_count\": 0,\n",
      "        \"undone_activities_count\": 0,\n",
      "        \"participants_count\": 0,\n",
      "        \"expected_close_date\": \"2022-02-11\",\n",
      "        \"last_incoming_mail_time\": null,\n",
      "        \"last_outgoing_mail_time\": null,\n",
      "        \"label\": null,\n",
      "        \"local_won_date\": null,\n",
      "        \"local_lost_date\": null,\n",
      "        \"local_close_date\": null,\n",
      "        \"origin\": \"API\",\n",
      "        \"origin_id\": null,\n",
      "        \"channel\": null,\n",
      "        \"channel_id\": null,\n",
      "        \"stage_order_nr\": 0,\n",
      "        \"person_name\": \"Luan\",\n",
      "        \"org_name\": \"Organization ID goes here\",\n",
      "        \"next_activity_subject\": null,\n",
      "        \"next_activity_type\": null,\n",
      "        \"next_activity_duration\": null,\n",
      "        \"next_activity_note\": null,\n",
      "        \"formatted_value\": \"US$\\u00a010.000\",\n",
      "        \"weighted_value\": 10000,\n",
      "        \"formatted_weighted_value\": \"US$\\u00a010.000\",\n",
      "        \"weighted_value_currency\": \"USD\",\n",
      "        \"rotten_time\": null,\n",
      "        \"owner_name\": \"Solucionai\",\n",
      "        \"cc_email\": \"solucionai2+deal478@pipedrivemail.com\",\n",
      "        \"35a319351c9fab549668d100389ed341a9b4d05b\": null,\n",
      "        \"00ba57a72cb0ef5b4a66f3640b13aa955c6e2238\": null,\n",
      "        \"61bad5d0099655bda536f141755e719dcbd44c15\": null,\n",
      "        \"23a9e2e8c2a159fd5cb8ba32fada0a999f99f0b5\": null,\n",
      "        \"fdf64bb2a1a83ad4237b63dea7c342672fc5ed5e\": null,\n",
      "        \"97eccd7ca37f373aff8bee7dfaa88841dc93ac58\": null,\n",
      "        \"206d1b7e0d8eb9d74b1cef8296ebaaef17601f7a\": null,\n",
      "        \"47455fa82a2791b3e84075a723d6668beae9f12a\": null,\n",
      "        \"org_hidden\": false,\n",
      "        \"person_hidden\": false\n",
      "    },\n",
      "    \"related_objects\": {\n",
      "        \"user\": {\n",
      "            \"21200027\": {\n",
      "                \"id\": 21200027,\n",
      "                \"name\": \"Solucionai\",\n",
      "                \"email\": \"compartilhadosolucionai@gmail.com\",\n",
      "                \"has_pic\": 0,\n",
      "                \"pic_hash\": null,\n",
      "                \"active_flag\": true\n",
      "            }\n",
      "        },\n",
      "        \"organization\": {\n",
      "            \"12\": {\n",
      "                \"id\": 12,\n",
      "                \"name\": \"Organization ID goes here\",\n",
      "                \"people_count\": 0,\n",
      "                \"owner_id\": 21200027,\n",
      "                \"address\": null,\n",
      "                \"active_flag\": true,\n",
      "                \"cc_email\": \"solucionai2@pipedrivemail.com\",\n",
      "                \"label_ids\": [],\n",
      "                \"owner_name\": \"Solucionai\"\n",
      "            }\n",
      "        },\n",
      "        \"pipeline\": {\n",
      "            \"1\": {\n",
      "                \"id\": 1,\n",
      "                \"name\": \"Pipeline\",\n",
      "                \"url_title\": \"default\",\n",
      "                \"order_nr\": 1,\n",
      "                \"active\": true,\n",
      "                \"deal_probability\": false,\n",
      "                \"add_time\": \"2024-05-16 13:37:25\",\n",
      "                \"update_time\": null\n",
      "            }\n",
      "        },\n",
      "        \"person\": {\n",
      "            \"27\": {\n",
      "                \"active_flag\": true,\n",
      "                \"id\": 27,\n",
      "                \"name\": \"Luan\",\n",
      "                \"email\": [\n",
      "                    {\n",
      "                        \"value\": \"\",\n",
      "                        \"primary\": true\n",
      "                    }\n",
      "                ],\n",
      "                \"phone\": [\n",
      "                    {\n",
      "                        \"value\": \"\",\n",
      "                        \"primary\": true\n",
      "                    }\n",
      "                ],\n",
      "                \"owner_id\": 21200027\n",
      "            }\n",
      "        },\n",
      "        \"stage\": {\n",
      "            \"1\": {\n",
      "                \"id\": 1,\n",
      "                \"order_nr\": 0,\n",
      "                \"name\": \"Qualified\",\n",
      "                \"active_flag\": true,\n",
      "                \"deal_probability\": 100,\n",
      "                \"pipeline_id\": 1,\n",
      "                \"rotten_flag\": false,\n",
      "                \"rotten_days\": null,\n",
      "                \"add_time\": \"2024-05-16 16:12:20\",\n",
      "                \"update_time\": null,\n",
      "                \"pipeline_name\": \"Pipeline\",\n",
      "                \"pipeline_deal_probability\": false\n",
      "            }\n",
      "        }\n",
      "    }\n",
      "}\n"
     ]
    }
   ],
   "source": [
    "import requests\n",
    "import json\n",
    "\n",
    "# Pipedrive API token and company domain\n",
    "api_token = '30ecee2f9e8872664a17adfd33fa7c018cd49f2f'\n",
    "company_domain = 'solucionai2'\n",
    "\n",
    "# Deal data\n",
    "deal = {\n",
    "    'title': 'TESTE PYTHON 1',\n",
    "    'org_id': 'Organization ID goes here',\n",
    "    'value': 10000,\n",
    "    'currency': 'USD',\n",
    "    'user_id': None,\n",
    "    'person_id': '27',\n",
    "    'stage_id': 1,\n",
    "    'status': 'open',\n",
    "    'expected_close_date': '2022-02-11',\n",
    "    'probability': 60,\n",
    "    'lost_reason': None,\n",
    "    'visible_to': 1,\n",
    "    'add_time': '2021-02-11'\n",
    "}\n",
    "\n",
    "# URL for adding a deal\n",
    "url = f'https://{company_domain}.pipedrive.com/api/v1/deals?api_token={api_token}'\n",
    "\n",
    "\n",
    "# Make the request\n",
    "print('Sending request...')\n",
    "response = requests.post(url, data=deal)\n",
    "\n",
    "# Parse the response\n",
    "response_data = response.json()\n",
    "\n",
    "# Check if the deal was added successfully\n",
    "if response_data.get('data') and response_data['data'].get('id'):\n",
    "    print('Deal was added successfully!')\n",
    "    print(json.dumps(response_data, indent=4))\n",
    "else:\n",
    "    print('Adding failed')\n",
    "    print(json.dumps(response_data, indent=4))\n"
   ]
  },
  {
   "cell_type": "markdown",
   "metadata": {},
   "source": [
    "## mandar file pela api POST"
   ]
  },
  {
   "cell_type": "code",
   "execution_count": 25,
   "metadata": {},
   "outputs": [
    {
     "name": "stdout",
     "output_type": "stream",
     "text": [
      "{\"success\":true,\"data\":{\"id\":2,\"user_id\":21200027,\"log_id\":null,\"add_time\":\"2024-08-07 15:17:35\",\"update_time\":\"2024-08-07 15:17:35\",\"file_name\":\"24ac87b3-5450-4ae7-a406-151c35bda5c8.csv\",\"file_size\":1354,\"active_flag\":true,\"inline_flag\":false,\"remote_location\":\"s3\",\"remote_id\":\"company\\/13500836\\/user\\/21200027\\/files\\/24ac87b3-5450-4ae7-a406-151c35bda5c8.csv\",\"s3_bucket\":null,\"url\":\"https:\\/\\/solucionai2.pipedrive.com\\/api\\/v1\\/files\\/2\\/download\",\"name\":\"dados.csv\",\"description\":null,\"deal_id\":478,\"lead_id\":null,\"person_id\":27,\"org_id\":12,\"product_id\":null,\"activity_id\":null,\"deal_name\":\"TESTE PYTHON 1\",\"lead_name\":null,\"person_name\":\"Luan\",\"org_name\":\"Organization ID goes here\",\"product_name\":null,\"mail_message_id\":null,\"mail_template_id\":null,\"cid\":null,\"file_type\":\"csv\"}}\n"
     ]
    }
   ],
   "source": [
    "import requests\n",
    "\n",
    "# Provided data\n",
    "api_token = '30ecee2f9e8872664a17adfd33fa7c018cd49f2f'\n",
    "company_domain = 'solucionai2'\n",
    "file_path = '/home/gustavo-zitta/Desktop/solucionai/teste_botconversa_python/dados.csv'\n",
    "\n",
    "# Construct the URL\n",
    "url = f'https://{company_domain}.pipedrive.com/api/v1/files?api_token={api_token}'\n",
    "\n",
    "# Payload with IDs (replace with actual IDs)\n",
    "payload = {\n",
    "    'deal_id': 478,        # Replace with the actual deal ID\n",
    "    'person_id': 27,      # Replace with the actual person ID\n",
    "    'org_id': 12,         # Replace with the actual organization ID  \n",
    "}\n",
    "\n",
    "# File to upload\n",
    "files = [\n",
    "    ('file', ('dados.csv', open(file_path, 'rb'), 'application/octet-stream'))\n",
    "]\n",
    "\n",
    "# Headers\n",
    "headers = {\n",
    "    'Accept': 'application/json'\n",
    "}\n",
    "\n",
    "# Make the POST request\n",
    "response = requests.post(url, headers=headers, data=payload, files=files)\n",
    "\n",
    "# Print the response\n",
    "print(response.text)"
   ]
  },
  {
   "cell_type": "markdown",
   "metadata": {},
   "source": [
    "### teste RAILWAY endpoint STORE"
   ]
  },
  {
   "cell_type": "code",
   "execution_count": 31,
   "metadata": {},
   "outputs": [
    {
     "name": "stdout",
     "output_type": "stream",
     "text": [
      "Dados enviados com sucesso!\n"
     ]
    }
   ],
   "source": [
    "import requests\n",
    "\n",
    "# URL do endpoint\n",
    "url = 'https://web-production-c353.up.railway.app/store'\n",
    "\n",
    "# Dados que serão enviados\n",
    "data = {\n",
    "    'numero_wpp': '+5561981006839',\n",
    "    'PROBLEMA': 'Problemas com Negativação Indevida',\n",
    "    'FLAG_NEGATIVACAO_JORNADA': '999',\n",
    "    'MOTIVO': 'DIVIDA'\n",
    "}\n",
    "\n",
    "# Fazendo a solicitação POST\n",
    "response = requests.post(url, json=data)\n",
    "\n",
    "# Verificando a resposta do servidor\n",
    "if response.status_code == 200:\n",
    "    print('Dados enviados com sucesso!')\n",
    "else:\n",
    "    print(f'Erro ao enviar dados. Status code: {response.status_code}')\n",
    "    print(response.text)\n"
   ]
  },
  {
   "cell_type": "code",
   "execution_count": null,
   "metadata": {},
   "outputs": [],
   "source": []
  }
 ],
 "metadata": {
  "kernelspec": {
   "display_name": "teste_botconversa",
   "language": "python",
   "name": "python3"
  },
  "language_info": {
   "codemirror_mode": {
    "name": "ipython",
    "version": 3
   },
   "file_extension": ".py",
   "mimetype": "text/x-python",
   "name": "python",
   "nbconvert_exporter": "python",
   "pygments_lexer": "ipython3",
   "version": "3.11.9"
  }
 },
 "nbformat": 4,
 "nbformat_minor": 2
}
